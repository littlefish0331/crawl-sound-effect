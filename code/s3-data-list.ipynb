{
 "cells": [
  {
   "cell_type": "markdown",
   "metadata": {},
   "source": [
    "檢查有無安裝 boto3\n",
    "\n",
    "```\n",
    "!pip list | grep boto\n",
    "```\n",
    "\n",
    "沒有的話就 install 一下。\n",
    "\n",
    "```\n",
    "pip install boto3\n",
    "```"
   ]
  },
  {
   "cell_type": "markdown",
   "metadata": {},
   "source": [
    "## list objects in the bucket\n"
   ]
  },
  {
   "cell_type": "code",
   "execution_count": 139,
   "metadata": {},
   "outputs": [],
   "source": [
    "import boto3\n",
    "import re"
   ]
  },
  {
   "cell_type": "code",
   "execution_count": 140,
   "metadata": {},
   "outputs": [],
   "source": [
    "# confige\n",
    "s3_access_key = 'AKIAVF********5W5XB'\n",
    "s3_secret_key = '8K1oUcrO*************kMEBpA4M'\n",
    "name_bucket = 'crawl-voice'"
   ]
  },
  {
   "cell_type": "code",
   "execution_count": 141,
   "metadata": {},
   "outputs": [],
   "source": [
    "s3 = boto3.client('s3',\n",
    "                  aws_access_key_id=s3_access_key,\n",
    "                  aws_secret_access_key=s3_secret_key)"
   ]
  },
  {
   "cell_type": "code",
   "execution_count": 142,
   "metadata": {},
   "outputs": [
    {
     "data": {
      "text/plain": [
       "[{'Name': 'crawl-voice',\n",
       "  'CreationDate': datetime.datetime(2021, 7, 12, 15, 47, 45, tzinfo=tzutc())},\n",
       " {'Name': 'sagemaker-us-west-2-355444812467',\n",
       "  'CreationDate': datetime.datetime(2021, 7, 2, 14, 46, 37, tzinfo=tzutc())}]"
      ]
     },
     "execution_count": 142,
     "metadata": {},
     "output_type": "execute_result"
    }
   ],
   "source": [
    "bkts = s3.list_buckets()\n",
    "bkts['Buckets']"
   ]
  },
  {
   "cell_type": "code",
   "execution_count": 145,
   "metadata": {},
   "outputs": [
    {
     "data": {
      "text/plain": [
       "['category_00/', 'category_00/s01-000.wav', 'category_00/s01-001.wav']"
      ]
     },
     "execution_count": 145,
     "metadata": {},
     "output_type": "execute_result"
    }
   ],
   "source": [
    "# list objects\n",
    "objs = s3.list_objects_v2(Bucket = name_bucket, MaxKeys=3)\n",
    "[x['Key'] for x in objs['Contents']]"
   ]
  },
  {
   "cell_type": "code",
   "execution_count": 146,
   "metadata": {},
   "outputs": [
    {
     "data": {
      "text/plain": [
       "5372"
      ]
     },
     "execution_count": 146,
     "metadata": {},
     "output_type": "execute_result"
    }
   ],
   "source": [
    "# list all object\n",
    "objs = []\n",
    "tmp_objs = s3.list_objects_v2(Bucket = name_bucket, MaxKeys=1000)\n",
    "objs = objs + [x['Key'] for x in tmp_objs['Contents']]\n",
    "while 'NextContinuationToken' in tmp_objs.keys():\n",
    "    tmp_objs = s3.list_objects_v2(Bucket = name_bucket, MaxKeys=1000, ContinuationToken = tmp_objs['NextContinuationToken'])\n",
    "    objs = objs + [x['Key'] for x in tmp_objs['Contents']]\n",
    "    \n",
    "len(objs)"
   ]
  },
  {
   "cell_type": "code",
   "execution_count": 147,
   "metadata": {},
   "outputs": [
    {
     "data": {
      "text/plain": [
       "5345"
      ]
     },
     "execution_count": 147,
     "metadata": {},
     "output_type": "execute_result"
    }
   ],
   "source": [
    "# filter all wav files\n",
    "p = re.compile('.+\\wav')\n",
    "objs_filter = [ x for x in objs if p.match(x) ]\n",
    "\n",
    "len(objs_filter)"
   ]
  },
  {
   "cell_type": "code",
   "execution_count": 148,
   "metadata": {},
   "outputs": [],
   "source": [
    "folder = {}\n",
    "for i in objs_filter:\n",
    "    tmp_re = re.search(pattern = 'category_[0-9]{2}', string = i)\n",
    "    fname = tmp_re.group()\n",
    "    tmp_url = 'https://crawl-voice.s3.us-east-1.amazonaws.com/'+i\n",
    "    if fname not in folder.keys():\n",
    "        folder[fname] = [tmp_url]\n",
    "    else:\n",
    "        folder[fname] = folder[fname] + [tmp_url]"
   ]
  },
  {
   "cell_type": "code",
   "execution_count": 149,
   "metadata": {},
   "outputs": [
    {
     "data": {
      "text/plain": [
       "dict_keys(['category_00', 'category_01', 'category_02', 'category_04', 'category_05', 'category_06', 'category_07', 'category_09'])"
      ]
     },
     "execution_count": 149,
     "metadata": {},
     "output_type": "execute_result"
    }
   ],
   "source": [
    "folder.keys()"
   ]
  },
  {
   "cell_type": "code",
   "execution_count": null,
   "metadata": {},
   "outputs": [],
   "source": [
    "with open('filename.pickle', 'wb') as handle:\n",
    "    pickle.dump(folder, handle, protocol=pickle.HIGHEST_PROTOCOL)"
   ]
  },
  {
   "cell_type": "code",
   "execution_count": null,
   "metadata": {},
   "outputs": [],
   "source": []
  },
  {
   "cell_type": "markdown",
   "metadata": {},
   "source": [
    "---\n",
    "\n",
    "## 柏龍作法 \n",
    "\n",
    "from local file"
   ]
  },
  {
   "cell_type": "code",
   "execution_count": 90,
   "metadata": {},
   "outputs": [],
   "source": [
    "import os\n",
    "import pickle"
   ]
  },
  {
   "cell_type": "code",
   "execution_count": 137,
   "metadata": {},
   "outputs": [],
   "source": [
    "folder = {}\n",
    "\n",
    "for i in range(10):\n",
    "    i = '0'+str(i)\n",
    "    tmp = f'category_{i}'\n",
    "    folder[tmp] = ['https://crawl-voice.s3.us-east-1.amazonaws.com/'+tmp+'/'+x for x in os.listdir(f'../data/category_{i}')]"
   ]
  },
  {
   "cell_type": "code",
   "execution_count": 138,
   "metadata": {},
   "outputs": [
    {
     "data": {
      "text/plain": [
       "dict_keys(['category_00', 'category_01', 'category_02', 'category_03', 'category_04', 'category_05', 'category_06', 'category_07', 'category_08', 'category_09'])"
      ]
     },
     "execution_count": 138,
     "metadata": {},
     "output_type": "execute_result"
    }
   ],
   "source": [
    "folder.keys()"
   ]
  },
  {
   "cell_type": "code",
   "execution_count": 31,
   "metadata": {},
   "outputs": [],
   "source": [
    "with open('filename.pickle', 'wb') as handle:\n",
    "    pickle.dump(folder, handle, protocol=pickle.HIGHEST_PROTOCOL)\n",
    "# with open('filename.pickle', 'rb') as handle:\n",
    "#     b = pickle.load(handle)\n",
    "# print(a == b)"
   ]
  },
  {
   "cell_type": "markdown",
   "metadata": {},
   "source": [
    "---\n",
    "\n",
    "## END"
   ]
  },
  {
   "cell_type": "raw",
   "metadata": {},
   "source": [
    "# 下載檔案\n",
    "with open('test.wav', 'wb') as f:\n",
    "    s3.download_fileobj(name_bucket, 'category_00/s01-000.wav', f)"
   ]
  },
  {
   "cell_type": "code",
   "execution_count": null,
   "metadata": {},
   "outputs": [],
   "source": []
  }
 ],
 "metadata": {
  "kernelspec": {
   "display_name": "Python 3.7.5",
   "language": "python",
   "name": "python3.7.5"
  },
  "language_info": {
   "codemirror_mode": {
    "name": "ipython",
    "version": 3
   },
   "file_extension": ".py",
   "mimetype": "text/x-python",
   "name": "python",
   "nbconvert_exporter": "python",
   "pygments_lexer": "ipython3",
   "version": "3.7.5"
  },
  "toc": {
   "base_numbering": 1,
   "nav_menu": {},
   "number_sections": false,
   "sideBar": true,
   "skip_h1_title": false,
   "title_cell": "Table of Contents",
   "title_sidebar": "Contents",
   "toc_cell": false,
   "toc_position": {},
   "toc_section_display": true,
   "toc_window_display": false
  }
 },
 "nbformat": 4,
 "nbformat_minor": 2
}