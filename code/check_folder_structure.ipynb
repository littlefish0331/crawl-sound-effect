{
 "cells": [
  {
   "cell_type": "markdown",
   "metadata": {},
   "source": [
    "# create data folder structure"
   ]
  },
  {
   "cell_type": "raw",
   "metadata": {},
   "source": [
    "from IPython.core.display import HTML\n",
    "HTML(\"<script>Jupyter.notebook.kernel.restart()</script>\")"
   ]
  },
  {
   "cell_type": "raw",
   "metadata": {},
   "source": [
    "%reset -f"
   ]
  },
  {
   "cell_type": "code",
   "execution_count": 1,
   "metadata": {},
   "outputs": [],
   "source": [
    "import os\n",
    "from pathlib import Path"
   ]
  },
  {
   "cell_type": "code",
   "execution_count": 2,
   "metadata": {},
   "outputs": [],
   "source": [
    "path_cd = os.getcwd()\n",
    "path_root = Path(os.getcwd()).parent\n",
    "path_data = os.path.join(path_root, \"./data\")\n",
    "\n",
    "# configure the folder path for data stored\n",
    "a = 'category'\n",
    "b = range(0,10)\n",
    "path_category = [f'{path_data}/{a}_{i:02}' for i in b]\n",
    "path_metadata = [os.path.join(path_data, \"./metadata\")]"
   ]
  },
  {
   "cell_type": "code",
   "execution_count": 3,
   "metadata": {},
   "outputs": [],
   "source": [
    "'''\n",
    "best practice\n",
    "'''\n",
    "for x in path_category + path_metadata:\n",
    "    Path(x).mkdir(parents = True, exist_ok = True) "
   ]
  },
  {
   "cell_type": "code",
   "execution_count": null,
   "metadata": {},
   "outputs": [],
   "source": []
  },
  {
   "cell_type": "markdown",
   "metadata": {},
   "source": [
    "---\n",
    "\n",
    "## END"
   ]
  },
  {
   "cell_type": "raw",
   "metadata": {},
   "source": [
    "'''\n",
    "徒法煉鋼的方法\n",
    "'''\n",
    "\n",
    "# create folder - data\n",
    "if not os.path.exists(path_data):\n",
    "    os.mkdir(path_data)\n",
    "\n",
    "# create category folder in data\n",
    "for i_path in path_category:\n",
    "    if not os.path.exists(i_path):\n",
    "        os.mkdir(i_path)\n",
    "\n",
    "# create metadata folder in data\n",
    "if not os.path.exists(path_metadata):\n",
    "    os.mkdir(path_metadata)"
   ]
  },
  {
   "cell_type": "raw",
   "metadata": {},
   "source": [
    "'''\n",
    "version: 1.0\n",
    "- 徒法煉鋼 -> 轉換成 function\n",
    "\n",
    "parameter explain:\n",
    "- path_folder: abousolute path. single can be string or in list. multiple must be in list\n",
    "'''\n",
    "\n",
    "def create_foler(path_folder):\n",
    "    for i_path in path_folder:\n",
    "        print(i_path)\n",
    "        if not os.path.exists(i_path):\n",
    "            os.mkdir(i_path)\n",
    "    return('success to create folder structure')\n",
    "\n",
    "# create_foler([path_data])\n",
    "# create_foler(path_category)"
   ]
  },
  {
   "cell_type": "raw",
   "metadata": {},
   "source": [
    "'''\n",
    "version: 1.1\n",
    "徒法煉鋼 -> 轉換成 function\n",
    "\n",
    "fix:\n",
    "- parameter for path not need to be list\n",
    "\n",
    "parameter explain:\n",
    "- path_folder:\n",
    "  - abousolute path. \n",
    "  - single can be string or in list. multiple must be in list.\n",
    "'''\n",
    "\n",
    "def create_foler(path_folder):\n",
    "    if (type(path_folder) is str):\n",
    "        path_folder = [path_folder]\n",
    "    if (type(path_folder) is list) and (type(path_folder[0]) is str):\n",
    "        while len(path_folder)!=0:\n",
    "            tmp_path = path_folder.pop(0)\n",
    "            print(tmp_path)\n",
    "            os.mkdir(tmp_path)\n",
    "    return('success to create folder structure')\n",
    "\n",
    "# create_foler(path_data)\n",
    "# create_foler(path_category)"
   ]
  },
  {
   "cell_type": "raw",
   "metadata": {},
   "source": [
    "'''\n",
    "version: 2.0\n",
    "徒法煉鋼 -> 轉換成 function\n",
    "\n",
    "fix:\n",
    "- can create recursive path.\n",
    "\n",
    "parameter explain:\n",
    "- path_folder:\n",
    "  - abousolute path. \n",
    "  - single can be string or in list. multiple must be in list.\n",
    "'''\n",
    "\n",
    "def create_foler(path_folder):\n",
    "    if (len(path_folder)==0):\n",
    "        return('path_folder is empty.')\n",
    "    if (type(path_folder) is str):\n",
    "        path_folder = [path_folder]\n",
    "    if (type(path_folder) is list) and (type(path_folder[0]) is str):\n",
    "        while len(path_folder)!=0:\n",
    "            tmp_path = path_folder.pop(0)\n",
    "            print(tmp_path)\n",
    "            Path(tmp_path).mkdir(parents=True, exist_ok=True) \n",
    "    return('success to create folder structure')\n",
    "\n",
    "# create_foler(path_data)\n",
    "# create_foler(path_category)"
   ]
  },
  {
   "cell_type": "code",
   "execution_count": null,
   "metadata": {},
   "outputs": [],
   "source": []
  }
 ],
 "metadata": {
  "kernelspec": {
   "display_name": "Python 3.7.5",
   "language": "python",
   "name": "python3.7.5"
  },
  "language_info": {
   "codemirror_mode": {
    "name": "ipython",
    "version": 3
   },
   "file_extension": ".py",
   "mimetype": "text/x-python",
   "name": "python",
   "nbconvert_exporter": "python",
   "pygments_lexer": "ipython3",
   "version": "3.7.5"
  },
  "toc": {
   "base_numbering": 1,
   "nav_menu": {},
   "number_sections": false,
   "sideBar": true,
   "skip_h1_title": false,
   "title_cell": "Table of Contents",
   "title_sidebar": "Contents",
   "toc_cell": false,
   "toc_position": {
    "height": "calc(100% - 180px)",
    "left": "10px",
    "top": "150px",
    "width": "245.76px"
   },
   "toc_section_display": true,
   "toc_window_display": true
  }
 },
 "nbformat": 4,
 "nbformat_minor": 2
}
