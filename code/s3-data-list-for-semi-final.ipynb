{
 "cells": [
  {
   "cell_type": "markdown",
   "metadata": {},
   "source": [
    "檢查有無安裝 boto3\n",
    "\n",
    "```\n",
    "!pip list | grep boto\n",
    "```\n",
    "\n",
    "沒有的話就 install 一下。\n",
    "\n",
    "```\n",
    "pip install boto3\n",
    "```"
   ]
  },
  {
   "cell_type": "markdown",
   "metadata": {},
   "source": [
    "## list objects in the bucket\n"
   ]
  },
  {
   "cell_type": "code",
   "execution_count": 6,
   "metadata": {},
   "outputs": [],
   "source": [
    "import boto3\n",
    "import re"
   ]
  },
  {
   "cell_type": "code",
   "execution_count": 6,
   "metadata": {},
   "outputs": [],
   "source": [
    "# confige\n",
    "s3_access_key = 'AKIAVF******P5W5XB'\n",
    "s3_secret_key = '8K1oUcrOA*************CYD8kMEBpA4M'\n",
    "name_bucket = 'sagemaker-us-west-2-355444812467'"
   ]
  },
  {
   "cell_type": "code",
   "execution_count": 7,
   "metadata": {},
   "outputs": [],
   "source": [
    "s3 = boto3.client('s3',\n",
    "                  aws_access_key_id=s3_access_key,\n",
    "                  aws_secret_access_key=s3_secret_key)"
   ]
  },
  {
   "cell_type": "code",
   "execution_count": 8,
   "metadata": {},
   "outputs": [
    {
     "data": {
      "text/plain": [
       "[{'Name': 'crawl-voice',\n",
       "  'CreationDate': datetime.datetime(2021, 7, 12, 15, 47, 45, tzinfo=tzutc())},\n",
       " {'Name': 'sagemaker-us-west-2-355444812467',\n",
       "  'CreationDate': datetime.datetime(2021, 7, 2, 14, 46, 37, tzinfo=tzutc())}]"
      ]
     },
     "execution_count": 8,
     "metadata": {},
     "output_type": "execute_result"
    }
   ],
   "source": [
    "bkts = s3.list_buckets()\n",
    "bkts['Buckets']"
   ]
  },
  {
   "cell_type": "code",
   "execution_count": 9,
   "metadata": {},
   "outputs": [
    {
     "data": {
      "text/plain": [
       "['DEMO-tensorflow-cifar10/eval.tfrecords',\n",
       " 'DEMO-tensorflow-cifar10/train.tfrecords',\n",
       " 'DEMO-tensorflow-cifar10/validation.tfrecords']"
      ]
     },
     "execution_count": 9,
     "metadata": {},
     "output_type": "execute_result"
    }
   ],
   "source": [
    "# list objects\n",
    "objs = s3.list_objects_v2(Bucket = name_bucket, MaxKeys=3)\n",
    "[x['Key'] for x in objs['Contents']]"
   ]
  },
  {
   "cell_type": "code",
   "execution_count": 12,
   "metadata": {},
   "outputs": [
    {
     "data": {
      "text/plain": [
       "2836"
      ]
     },
     "execution_count": 12,
     "metadata": {},
     "output_type": "execute_result"
    }
   ],
   "source": [
    "# list all object\n",
    "objs = []\n",
    "tmp_objs = s3.list_objects_v2(Bucket = name_bucket, MaxKeys=1000)\n",
    "objs = objs + [x['Key'] for x in tmp_objs['Contents']]\n",
    "while 'NextContinuationToken' in tmp_objs.keys():\n",
    "    tmp_objs = s3.list_objects_v2(Bucket = name_bucket, MaxKeys=1000, ContinuationToken = tmp_objs['NextContinuationToken'])\n",
    "    objs = objs + [x['Key'] for x in tmp_objs['Contents']]\n",
    "    \n",
    "len(objs)"
   ]
  },
  {
   "cell_type": "code",
   "execution_count": 17,
   "metadata": {},
   "outputs": [
    {
     "data": {
      "text/plain": [
       "13"
      ]
     },
     "execution_count": 17,
     "metadata": {},
     "output_type": "execute_result"
    }
   ],
   "source": [
    "# filter all wav files\n",
    "p = re.compile('tomofun.+\\.(wav|mp3)')\n",
    "objs_filter = [ x for x in objs if p.match(x) ]\n",
    "\n",
    "len(objs_filter)"
   ]
  },
  {
   "cell_type": "code",
   "execution_count": 18,
   "metadata": {},
   "outputs": [
    {
     "data": {
      "text/plain": [
       "['tomofun/1625340100.9683986/competition/train/train_00001.wav',\n",
       " 'tomofun/1625340100.9683986/competition/train/train_00010.wav',\n",
       " 'tomofun/1625340100.9683986/competition/train/train_00021.wav',\n",
       " 'tomofun/1625346339.8631585/competition/train/train_00001.wav',\n",
       " 'tomofun/1625346339.8631585/competition/train/train_00010.wav',\n",
       " 'tomofun/1625346339.8631585/competition/train/train_00021.wav',\n",
       " 'tomofun/1626372118.2400548/competition/train/train_00001.wav',\n",
       " 'tomofun/1626372118.2400548/competition/train/train_00010.wav',\n",
       " 'tomofun/1626372118.2400548/competition/train/train_00021.wav',\n",
       " 'tomofun/1626434308.4505794/competition/train/28bdec5d-bac8-4463-9e5e-3a4c8241af9e.wav',\n",
       " 'tomofun/1626434308.4505794/competition/train/train_00001.wav',\n",
       " 'tomofun/1626434308.4505794/competition/train/train_00010.wav',\n",
       " 'tomofun/1626434308.4505794/competition/train/train_00021.wav']"
      ]
     },
     "execution_count": 18,
     "metadata": {},
     "output_type": "execute_result"
    }
   ],
   "source": [
    "objs_filter"
   ]
  },
  {
   "cell_type": "code",
   "execution_count": 148,
   "metadata": {},
   "outputs": [],
   "source": [
    "folder = {}\n",
    "for i in objs_filter:\n",
    "    tmp_re = re.search(pattern = 'category_[0-9]{2}', string = i)\n",
    "    fname = tmp_re.group()\n",
    "    tmp_url = 'https://crawl-voice.s3.us-east-1.amazonaws.com/'+i\n",
    "    if fname not in folder.keys():\n",
    "        folder[fname] = [tmp_url]\n",
    "    else:\n",
    "        folder[fname] = folder[fname] + [tmp_url]"
   ]
  },
  {
   "cell_type": "code",
   "execution_count": 149,
   "metadata": {},
   "outputs": [
    {
     "data": {
      "text/plain": [
       "dict_keys(['category_00', 'category_01', 'category_02', 'category_04', 'category_05', 'category_06', 'category_07', 'category_09'])"
      ]
     },
     "execution_count": 149,
     "metadata": {},
     "output_type": "execute_result"
    }
   ],
   "source": [
    "folder.keys()"
   ]
  },
  {
   "cell_type": "code",
   "execution_count": null,
   "metadata": {},
   "outputs": [],
   "source": [
    "with open('filename.pickle', 'wb') as handle:\n",
    "    pickle.dump(folder, handle, protocol=pickle.HIGHEST_PROTOCOL)"
   ]
  },
  {
   "cell_type": "code",
   "execution_count": null,
   "metadata": {},
   "outputs": [],
   "source": []
  },
  {
   "cell_type": "markdown",
   "metadata": {},
   "source": [
    "---\n",
    "\n",
    "## END"
   ]
  },
  {
   "cell_type": "raw",
   "metadata": {},
   "source": [
    "# 下載檔案\n",
    "with open('test.wav', 'wb') as f:\n",
    "    s3.download_fileobj(name_bucket, 'category_00/s01-000.wav', f)"
   ]
  },
  {
   "cell_type": "code",
   "execution_count": null,
   "metadata": {},
   "outputs": [],
   "source": []
  }
 ],
 "metadata": {
  "kernelspec": {
   "name": "python3",
   "display_name": "Python 3.7.5 64-bit"
  },
  "language_info": {
   "codemirror_mode": {
    "name": "ipython",
    "version": 3
   },
   "file_extension": ".py",
   "mimetype": "text/x-python",
   "name": "python",
   "nbconvert_exporter": "python",
   "pygments_lexer": "ipython3",
   "version": "3.7.5"
  },
  "toc": {
   "base_numbering": 1,
   "nav_menu": {},
   "number_sections": false,
   "sideBar": true,
   "skip_h1_title": false,
   "title_cell": "Table of Contents",
   "title_sidebar": "Contents",
   "toc_cell": false,
   "toc_position": {},
   "toc_section_display": true,
   "toc_window_display": false
  },
  "interpreter": {
   "hash": "521c84d40ad468d8f6b09ac2f75e195ca80e7185ca20e757e11c67537ffb2eb9"
  }
 },
 "nbformat": 4,
 "nbformat_minor": 2
}